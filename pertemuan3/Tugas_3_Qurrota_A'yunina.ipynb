{
  "nbformat": 4,
  "nbformat_minor": 0,
  "metadata": {
    "colab": {
      "provenance": []
    },
    "kernelspec": {
      "name": "python3",
      "display_name": "Python 3"
    },
    "language_info": {
      "name": "python"
    }
  },
  "cells": [
    {
      "cell_type": "markdown",
      "source": [
        "# BayesianSearchCV\n",
        "\n",
        "1. Apa itu hyperparameter tuning?\n",
        "Hyperparameter = parameter yang tidak dipelajari langsung dari data, tapi ditentukan sebelum training.\n",
        "Hyperparameter tuning = proses mencari kombinasi hyperparameter terbaik supaya model punya performa optimal (akurasi tinggi, error rendah, dll).\n",
        "\n",
        "2. Jelaskan metode BayesSearchCV!\n",
        "BayesSearchCV adalah implementasi hyperparameter tuning berbasis Bayesian Optimization dari library scikit-optimize (skopt).\n",
        "\n",
        "3. Bagaimana cara kerja BayesSearchCV?\n",
        "  1. Mulai dengan sampling awal: memilih beberapa kombinasi hyperparameter secara acak.\n",
        "  2. Bangun model probabilistik (surrogate model), biasanya Gaussian Process, untuk memprediksi kualitas dari kombinasi hyperparameter.\n",
        "  3. Acquisition function: menentukan kombinasi hyperparameter baru yang kemungkinan besar menghasilkan perbaikan performa.\n",
        "  4. Evaluasi model dengan kombinasi tersebut.\n",
        "  5. Update surrogate model dengan hasil baru.\n",
        "  6. Iterasi langkah 3–5 sampai batas iterasi/ waktu tercapai.\n",
        "\n",
        "4. Apa kelebihan BayesSearchCV dibandingkan metode hyperparameter tuning lainnya?\n",
        "  1. Lebih efisien dari GridSearchCV\n",
        "     GridSearch: coba semua kombinasi → boros waktu.\n",
        "     BayesSearchCV: coba kombinasi yang paling menjanjikan → hemat waktu.\n",
        "  2. Lebih efektif dari RandomizedSearchCV\n",
        "     Random: sampling murni acak, bisa buang waktu di area buruk.\n",
        "     Bayes: belajar dari hasil sebelumnya, makin lama makin fokus ke area “bagus”.\n",
        "  3. Terintegrasi dengan scikit-learn\n",
        "     Sama seperti GridSearchCV → gampang dipakai dengan pipeline, cross-validation, dsb.\n",
        "  4. Cocok untuk masalah dengan hyperparameter banyak & mahal dihitung\n",
        "     Misalnya training model besar (SVM, XGBoost, RandomForest).\n",
        "\n"
      ],
      "metadata": {
        "id": "pjbXCL2nNB9N"
      }
    },
    {
      "cell_type": "code",
      "execution_count": 11,
      "metadata": {
        "id": "2o0dt8txGE1k"
      },
      "outputs": [],
      "source": [
        "# import library\n",
        "#!pip install scikit-optimize # install jika belum pernah install #\n",
        "\n",
        "# import library setelah install\n",
        "from sklearn.datasets import load_iris\n",
        "from sklearn.model_selection import train_test_split\n",
        "from sklearn.ensemble import RandomForestClassifier\n",
        "from sklearn.metrics import accuracy_score\n",
        "from skopt import BayesSearchCV\n"
      ]
    },
    {
      "cell_type": "code",
      "source": [
        "# Load Dataset\n",
        "from sklearn.datasets import load_iris\n",
        "from sklearn.model_selection import train_test_split\n",
        "from sklearn.ensemble import RandomForestClassifier\n",
        "from sklearn.metrics import accuracy_score\n",
        "\n",
        "# BayesSearchCV dari scikit-optimize\n",
        "from skopt import BayesSearchCV\n",
        "\n",
        "# 1. Load dataset\n",
        "X, y = load_iris(return_X_y=True)\n",
        "X_train, X_test, y_train, y_test = train_test_split(\n",
        "    X, y, train_size=0.75, random_state=0\n",
        ")\n",
        "\n",
        "# 2. Definisikan model\n",
        "rf = RandomForestClassifier(random_state=0)\n",
        "\n",
        "# 3. Tentukan search space hyperparameter\n",
        "param_space = {\n",
        "    'n_estimators': (10, 200),\n",
        "    'max_depth': (1, 20),\n",
        "    'min_samples_split': (2, 20),\n",
        "    'min_samples_leaf': (1, 10)\n",
        "}\n",
        "\n",
        "# 4. Inisialisasi BayesSearchCV\n",
        "opt = BayesSearchCV(\n",
        "    rf,\n",
        "    search_spaces=param_space,\n",
        "    n_iter=30,\n",
        "    cv=3,\n",
        "    scoring='accuracy',\n",
        "    random_state=0,\n",
        "    n_jobs=-1\n",
        ")\n",
        "\n",
        "# 5. Fit ke data training\n",
        "opt.fit(X_train, y_train)\n",
        "\n",
        "# 6. Hasil terbaik\n",
        "print(\"Best parameters:\", opt.best_params_)\n",
        "print(\"Best CV score:\", opt.best_score_)\n",
        "\n",
        "# 7. Evaluasi di test set\n",
        "y_pred = opt.predict(X_test)\n",
        "print(\"Test Accuracy:\", accuracy_score(y_test, y_pred))"
      ],
      "metadata": {
        "id": "v7ENirBIHIYz",
        "colab": {
          "base_uri": "https://localhost:8080/"
        },
        "outputId": "e7d1eb24-95a5-47d4-f9f3-03c125206a82"
      },
      "execution_count": 12,
      "outputs": [
        {
          "output_type": "stream",
          "name": "stdout",
          "text": [
            "Best parameters: OrderedDict({'max_depth': 11, 'min_samples_leaf': 7, 'min_samples_split': 13, 'n_estimators': 133})\n",
            "Best CV score: 0.9556661925082978\n",
            "Test Accuracy: 0.9736842105263158\n"
          ]
        }
      ]
    },
    {
      "cell_type": "code",
      "source": [
        "# Definisikan Model dan parameter yang akan dioptimasi (Ruang Hyperparameter)\n",
        "# Definisikan Model\n",
        "rf = RandomForestClassifier(random_state=0)\n",
        "\n",
        "# Ruang Hyperparameter yang mau dioptimasi\n",
        "param_space = {\n",
        "    'n_estimators': (10, 200),\n",
        "    'max_depth': (1, 20),\n",
        "    'min_samples_split': (2, 20),\n",
        "    'min_samples_leaf': (1, 10)\n",
        "}"
      ],
      "metadata": {
        "id": "vmyqOLU1IO3T"
      },
      "execution_count": 14,
      "outputs": []
    },
    {
      "cell_type": "markdown",
      "source": [
        "# Fungsi Optimisasi Menggunakan BayesianSearchCV"
      ],
      "metadata": {
        "id": "Ip5U8cL4OLUP"
      }
    },
    {
      "cell_type": "code",
      "source": [
        "# Inisialisasi BayesSearchCV\n",
        "opt = BayesSearchCV(\n",
        "    estimator=rf,\n",
        "    search_spaces=param_space,\n",
        "    n_iter=30,\n",
        "    cv=3,\n",
        "    scoring='accuracy',\n",
        "    random_state=0,\n",
        "    n_jobs=-1\n",
        ")"
      ],
      "metadata": {
        "id": "BC0k0vXKOBJk"
      },
      "execution_count": 16,
      "outputs": []
    },
    {
      "cell_type": "code",
      "source": [
        "# Jalankan optimisasi\n",
        "# Jalankan optimisasi di data training\n",
        "opt.fit(X_train, y_train)\n",
        "\n",
        "# Tampilkan hasil terbaik\n",
        "print(\"Best Parameters:\", opt.best_params_)\n",
        "print(\"Best CV Score:\", opt.best_score_)"
      ],
      "metadata": {
        "id": "EYoUwsYCOB5F",
        "colab": {
          "base_uri": "https://localhost:8080/"
        },
        "outputId": "24f1efc3-e2e7-483f-ed99-afe348c5e923"
      },
      "execution_count": 17,
      "outputs": [
        {
          "output_type": "stream",
          "name": "stdout",
          "text": [
            "Best Parameters: OrderedDict({'max_depth': 11, 'min_samples_leaf': 7, 'min_samples_split': 13, 'n_estimators': 133})\n",
            "Best CV Score: 0.9556661925082978\n"
          ]
        }
      ]
    },
    {
      "cell_type": "code",
      "source": [
        "# Evaluasi Model\n",
        "from sklearn.metrics import accuracy_score, classification_report\n",
        "\n",
        "# Prediksi data test dengan model terbaik\n",
        "y_pred = opt.predict(X_test)\n",
        "\n",
        "# Evaluasi akurasi\n",
        "print(\"Test Accuracy:\", accuracy_score(y_test, y_pred))\n",
        "\n",
        "# Laporan lebih detail\n",
        "print(\"\\nClassification Report:\\n\", classification_report(y_test, y_pred))"
      ],
      "metadata": {
        "id": "sox5OZx6OD0z",
        "colab": {
          "base_uri": "https://localhost:8080/"
        },
        "outputId": "d7fc1910-d7c7-45cb-b31e-ecd768547d4f"
      },
      "execution_count": 18,
      "outputs": [
        {
          "output_type": "stream",
          "name": "stdout",
          "text": [
            "Test Accuracy: 0.9736842105263158\n",
            "\n",
            "Classification Report:\n",
            "               precision    recall  f1-score   support\n",
            "\n",
            "           0       1.00      1.00      1.00        13\n",
            "           1       1.00      0.94      0.97        16\n",
            "           2       0.90      1.00      0.95         9\n",
            "\n",
            "    accuracy                           0.97        38\n",
            "   macro avg       0.97      0.98      0.97        38\n",
            "weighted avg       0.98      0.97      0.97        38\n",
            "\n"
          ]
        }
      ]
    }
  ]
}