{
  "nbformat": 4,
  "nbformat_minor": 0,
  "metadata": {
    "colab": {
      "provenance": []
    },
    "kernelspec": {
      "name": "python3",
      "display_name": "Python 3"
    },
    "language_info": {
      "name": "python"
    }
  },
  "cells": [
    {
      "cell_type": "markdown",
      "source": [
        "# Overview Materi\n",
        "\n",
        "Source: https://www.youtube.com/watch?v=LDRbO9a6XPU"
      ],
      "metadata": {
        "id": "fQjXfMWTFXhh"
      }
    },
    {
      "cell_type": "markdown",
      "source": [
        "Jelaskan secara singkat apa itu decision tree menurut pemahamanmu!\n",
        "\n",
        "Decision tree (pohon keputusan) adalah sebuah model prediksi dalam machine learning yang menggunakan struktur seperti pohon untuk mengambil keputusan. Intinya, dia membagi data ke kelompok-kelompok kecil berdasarkan aturan aturan (split) dari fitur data, hingga akhirnya tiap kelompok (daun pohon) punya prediksi kelas tertentu."
      ],
      "metadata": {
        "id": "UH5otNgmFY4r"
      }
    },
    {
      "cell_type": "markdown",
      "source": [
        "# Import Data & Libraries"
      ],
      "metadata": {
        "id": "yR_dxhoaIGZY"
      }
    },
    {
      "cell_type": "code",
      "execution_count": 1,
      "metadata": {
        "id": "E3fobMaeFOAe"
      },
      "outputs": [],
      "source": [
        "from __future__ import print_function\n",
        "\n",
        "# label kolom\n",
        "header = [\"color\", \"diameter\", \"label\"]\n",
        "\n",
        "# data training\n",
        "training_data = [\n",
        "    ['Green', 3, 'Apple'],\n",
        "    ['Yellow', 3, 'Apple'],\n",
        "    ['Red', 1, 'Grape'],\n",
        "    ['Red', 1, 'Grape'],\n",
        "    ['Yellow', 3, 'Lemon'],]\n",
        "\n",
        "# data testing\n",
        "testing_data = [\n",
        "    ['Green', 3, 'Apple'],\n",
        "    ['Yellow', 4, 'Apple'],\n",
        "    ['Red', 2, 'Grape'],\n",
        "    ['Red', 1, 'Grape'],\n",
        "    ['Yellow', 3, 'Lemon'],]"
      ]
    },
    {
      "cell_type": "markdown",
      "source": [
        "# Fungsi Dasar"
      ],
      "metadata": {
        "id": "YMsTb3E1MWY6"
      }
    },
    {
      "cell_type": "code",
      "source": [
        "# fungsi mencari apa saja unique value dari suatu kolom\n",
        "\n",
        "def unique_vals(rows, col):\n",
        "    return set([row[col] for row in rows])\n",
        "\n",
        "# contoh penggunaan\n",
        "print(unique_vals(training_data, 0))\n",
        "print(unique_vals(training_data, 1))"
      ],
      "metadata": {
        "id": "Bgzx5gwhSTWp",
        "colab": {
          "base_uri": "https://localhost:8080/"
        },
        "outputId": "b77bdf53-1dcf-47fd-e0a3-a97376d93b0c"
      },
      "execution_count": 2,
      "outputs": [
        {
          "output_type": "stream",
          "name": "stdout",
          "text": [
            "{'Yellow', 'Red', 'Green'}\n",
            "{1, 3}\n"
          ]
        }
      ]
    },
    {
      "cell_type": "code",
      "source": [
        "# fungsi Menghitung jumlah unique value dari suatu kolom (label terakhir)\n",
        "\n",
        "def class_counts(rows):\n",
        "    counts = {}\n",
        "    for row in rows:\n",
        "        label = row[-1]\n",
        "        if label not in counts:\n",
        "            counts[label] = 0\n",
        "        counts[label] += 1\n",
        "    return counts\n",
        "\n",
        "# contoh penggunaan\n",
        "print(class_counts(training_data))"
      ],
      "metadata": {
        "id": "hhF6uUhrJesN",
        "colab": {
          "base_uri": "https://localhost:8080/"
        },
        "outputId": "f25edc25-abe5-40df-fb83-e2142849facf"
      },
      "execution_count": 3,
      "outputs": [
        {
          "output_type": "stream",
          "name": "stdout",
          "text": [
            "{'Apple': 2, 'Grape': 2, 'Lemon': 1}\n"
          ]
        }
      ]
    },
    {
      "cell_type": "code",
      "source": [
        "# fungsi pengecekan suatu value numerik atau bukan\n",
        "\n",
        "def is_numeric(value):\n",
        "    return isinstance(value, int) or isinstance(value, float)\n",
        "\n",
        "# contoh penggunaan\n",
        "print(is_numeric(3))\n",
        "print(is_numeric(3.5))\n",
        "print(is_numeric(\"Apple\"))\n",
        "print(is_numeric(\"Red\"))"
      ],
      "metadata": {
        "id": "U9mxqVcnI9vw",
        "colab": {
          "base_uri": "https://localhost:8080/"
        },
        "outputId": "23764b65-3a6c-4cc0-dd3e-a7f9c8aca656"
      },
      "execution_count": 7,
      "outputs": [
        {
          "output_type": "stream",
          "name": "stdout",
          "text": [
            "True\n",
            "True\n",
            "False\n",
            "False\n"
          ]
        }
      ]
    },
    {
      "cell_type": "code",
      "source": [
        "# kelas untuk merepresentasikan pertanyaan pada decision tree\n",
        "\n",
        "class Question:\n",
        "\n",
        "    # inisialisasi kolom dan nilai pertanyaan\n",
        "    def __init__(self, column, value):\n",
        "        self.column = column\n",
        "        self.value = value\n",
        "\n",
        "    # mengecek apakah contoh data sesuai dengan pertanyaan\n",
        "    def match(self, example):\n",
        "        val = example[self.column]\n",
        "        if is_numeric(val):\n",
        "            return val >= self.value\n",
        "        else:\n",
        "            return val == self.value\n",
        "\n",
        "    # menampilkan pertanyaan dalam format string yang mudah dibaca\n",
        "    def __repr__(self):\n",
        "        condition = \">=\" if is_numeric(self.value) else \"==\"\n",
        "        return f\"Is {header[self.column]} {condition} {str(self.value)}?\"\n",
        "\n",
        "# contoh penggunaan 1\n",
        "q = Question(0, \"Green\")\n",
        "print(q)\n",
        "print(q.match(training_data[0]))\n",
        "print(q.match(training_data[1]))\n",
        "\n",
        "q2 = Question(1, 3)\n",
        "print(q2)\n",
        "print(q2.match(training_data[0]))\n",
        "print(q2.match(training_data[2]))\n"
      ],
      "metadata": {
        "id": "MekftmdeLPRo",
        "colab": {
          "base_uri": "https://localhost:8080/"
        },
        "outputId": "2266ea43-947b-4dfb-890b-13116cbd2d5d"
      },
      "execution_count": 8,
      "outputs": [
        {
          "output_type": "stream",
          "name": "stdout",
          "text": [
            "Is color == Green?\n",
            "True\n",
            "False\n",
            "Is diameter >= 3?\n",
            "True\n",
            "False\n"
          ]
        }
      ]
    },
    {
      "cell_type": "code",
      "source": [
        "# membagi dataset menjadi dua berdasarkan pertanyaan\n",
        "\n",
        "def partition(rows, question):\n",
        "    true_rows, false_rows = [], []\n",
        "    for row in rows:\n",
        "        if question.match(row):\n",
        "            true_rows.append(row)\n",
        "        else:\n",
        "            false_rows.append(row)\n",
        "    return true_rows, false_rows\n",
        "\n",
        "# contoh penggunaan\n",
        "question = Question(0, \"Green\")\n",
        "true_rows, false_rows = partition(training_data, question)\n",
        "\n",
        "print(\"Pertanyaan:\", question)\n",
        "print(\"True rows:\", true_rows)\n",
        "print(\"False rows:\", false_rows)"
      ],
      "metadata": {
        "id": "Y3lTf9NbL8Ik",
        "colab": {
          "base_uri": "https://localhost:8080/"
        },
        "outputId": "1cc99f73-f214-4c37-b617-8e1ec7c43dda"
      },
      "execution_count": 9,
      "outputs": [
        {
          "output_type": "stream",
          "name": "stdout",
          "text": [
            "Pertanyaan: Is color == Green?\n",
            "True rows: [['Green', 3, 'Apple']]\n",
            "False rows: [['Yellow', 3, 'Apple'], ['Red', 1, 'Grape'], ['Red', 1, 'Grape'], ['Yellow', 3, 'Lemon']]\n"
          ]
        }
      ]
    },
    {
      "cell_type": "markdown",
      "source": [
        "**apa itu gini impurity?**\n",
        "<br> gini impurity berfungsi mengukur tingkat ketidakmurnian atau ketidakteraturan pada sebuah simpul (node) dalam pohon"
      ],
      "metadata": {
        "id": "X4D5BkyeMdSG"
      }
    },
    {
      "cell_type": "code",
      "source": [
        "# menghitung nilai Gini Impurity untuk sebuah dataset\n",
        "\n",
        "def gini(rows):\n",
        "    counts = class_counts(rows)  # hitung jumlah tiap kelas\n",
        "    impurity = 1\n",
        "    for lbl in counts:\n",
        "        prob_of_lbl = counts[lbl] / float(len(rows))\n",
        "        impurity -= prob_of_lbl**2\n",
        "    return impurity\n",
        "\n",
        "\n",
        "# contoh penggunaan\n",
        "print(\"Gini(training_data) =\", gini(training_data))"
      ],
      "metadata": {
        "id": "DmAnmSzFMKtA",
        "colab": {
          "base_uri": "https://localhost:8080/"
        },
        "outputId": "feec8426-2b17-4118-bee7-3fe793c2fa74"
      },
      "execution_count": 10,
      "outputs": [
        {
          "output_type": "stream",
          "name": "stdout",
          "text": [
            "Gini(training_data) = 0.6399999999999999\n"
          ]
        }
      ]
    },
    {
      "cell_type": "markdown",
      "source": [
        "**apa itu information gain?**\n",
        "<br> information gain berfungsi mengukur seberapa efektif sebuah fitur dalam memisahkan data berdasarkan kelas-kelasnya"
      ],
      "metadata": {
        "id": "SyxWlLNOM_2U"
      }
    },
    {
      "cell_type": "code",
      "source": [
        "# menghitung nilai Information Gain dari pemisahan dataset\n",
        "\n",
        "def info_gain(left, right, current_uncertainty):\n",
        "    p = float(len(left)) / (len(left) + len(right))\n",
        "    return current_uncertainty - p * gini(left) - (1 - p) * gini(right)\n",
        "\n",
        "\n",
        "# contoh penggunaan\n",
        "# misal pakai pertanyaan \"color == Green\"\n",
        "question = Question(0, \"Green\")\n",
        "true_rows, false_rows = partition(training_data, question)\n",
        "current_uncertainty = gini(training_data)\n",
        "\n",
        "print(\"Information Gain:\", info_gain(true_rows, false_rows, current_uncertainty))"
      ],
      "metadata": {
        "id": "rObVucEEMiIZ",
        "colab": {
          "base_uri": "https://localhost:8080/"
        },
        "outputId": "a65580e1-2831-40c0-b141-2c72d4c71799"
      },
      "execution_count": 11,
      "outputs": [
        {
          "output_type": "stream",
          "name": "stdout",
          "text": [
            "Information Gain: 0.1399999999999999\n"
          ]
        }
      ]
    },
    {
      "cell_type": "code",
      "source": [
        "# mencari pertanyaan terbaik untuk membagi dataset berdasarkan information gain tertinggi\n",
        "\n",
        "def find_best_split(rows):\n",
        "    best_gain = 0\n",
        "    best_question = None\n",
        "    current_uncertainty = gini(rows)\n",
        "    n_features = len(rows[0]) - 1\n",
        "\n",
        "    for col in range(n_features):\n",
        "        values = set([row[col] for row in rows])\n",
        "\n",
        "        for val in values:\n",
        "            question = Question(col, val)\n",
        "\n",
        "            # split dataset\n",
        "            true_rows, false_rows = partition(rows, question)\n",
        "\n",
        "            # Skip split jika tidak ada pembagian\n",
        "            if len(true_rows) == 0 or len(false_rows) == 0:\n",
        "                continue\n",
        "\n",
        "            # hitung Information Gain\n",
        "            gain = info_gain(true_rows, false_rows, current_uncertainty)\n",
        "\n",
        "            if gain >= best_gain:\n",
        "                best_gain, best_question = gain, question\n",
        "\n",
        "    return best_gain, best_question\n",
        "\n",
        "# contoh penggunaan\n",
        "best_gain, best_question = find_best_split(training_data)\n",
        "\n",
        "print(\"Best Gain:\", best_gain)\n",
        "print(\"Best Question:\", best_question)"
      ],
      "metadata": {
        "id": "OK8Lc7koOIyS",
        "colab": {
          "base_uri": "https://localhost:8080/"
        },
        "outputId": "6f3ee11b-ab24-436e-a25e-f58f95e17a99"
      },
      "execution_count": 12,
      "outputs": [
        {
          "output_type": "stream",
          "name": "stdout",
          "text": [
            "Best Gain: 0.37333333333333324\n",
            "Best Question: Is diameter >= 3?\n"
          ]
        }
      ]
    },
    {
      "cell_type": "markdown",
      "source": [
        "# Fungsi Decision Tree"
      ],
      "metadata": {
        "id": "t225xaaIPGow"
      }
    },
    {
      "cell_type": "code",
      "source": [
        "# merepresentasikan node daun (leaf) pada decision tree yang berisi hasil prediksi\n",
        "\n",
        "class Leaf:\n",
        "\n",
        "    # inisialisasi leaf dengan menghitung jumlah kemunculan tiap kelas\n",
        "    def __init__(self, rows):\n",
        "        self.predictions = class_counts(rows)\n",
        "\n",
        "# contoh penggunaan\n",
        "leaf = Leaf(training_data)\n",
        "print(\"Prediksi di leaf:\", leaf.predictions)"
      ],
      "metadata": {
        "id": "3KXNVwMPOZ5c",
        "colab": {
          "base_uri": "https://localhost:8080/"
        },
        "outputId": "d7341436-ee15-4f11-fa58-c5e84cacadb0"
      },
      "execution_count": 13,
      "outputs": [
        {
          "output_type": "stream",
          "name": "stdout",
          "text": [
            "Prediksi di leaf: {'Apple': 2, 'Grape': 2, 'Lemon': 1}\n"
          ]
        }
      ]
    },
    {
      "cell_type": "code",
      "source": [
        "# merepresentasikan node keputusan (decision node) yang berisi pertanyaan dan cabang\n",
        "\n",
        "class Decision_Node:\n",
        "\n",
        "    # inisialisasi node dengan pertanyaan, cabang benar, dan cabang salah\n",
        "    def __init__(self, question, true_branch, false_branch):\n",
        "        self.question = question\n",
        "        self.true_branch = true_branch\n",
        "        self.false_branch = false_branch\n",
        "\n",
        "# contoh penggunaan\n",
        "q = Question(0, \"Green\")\n",
        "true_leaf = Leaf([['Green', 3, 'Apple']])\n",
        "false_leaf = Leaf([\n",
        "    ['Yellow', 3, 'Apple'],\n",
        "    ['Red', 1, 'Grape'],\n",
        "    ['Red', 1, 'Grape'],\n",
        "    ['Yellow', 3, 'Lemon'],\n",
        "])\n",
        "\n",
        "node = Decision_Node(q, true_leaf, false_leaf)\n",
        "\n",
        "print(\"Pertanyaan di node:\", node.question)\n",
        "print(\"True branch (prediksi):\", node.true_branch.predictions)\n",
        "print(\"False branch (prediksi):\", node.false_branch.predictions)"
      ],
      "metadata": {
        "id": "gktUwUY-P-eN",
        "colab": {
          "base_uri": "https://localhost:8080/"
        },
        "outputId": "aa62ef65-1aa2-474e-dda1-1466b3fe262b"
      },
      "execution_count": 14,
      "outputs": [
        {
          "output_type": "stream",
          "name": "stdout",
          "text": [
            "Pertanyaan di node: Is color == Green?\n",
            "True branch (prediksi): {'Apple': 1}\n",
            "False branch (prediksi): {'Apple': 1, 'Grape': 2, 'Lemon': 1}\n"
          ]
        }
      ]
    },
    {
      "cell_type": "code",
      "source": [
        "# membangun decision tree secara rekursif\n",
        "\n",
        "def build_tree(rows):\n",
        "    # cari pertanyaan terbaik\n",
        "    gain, question = find_best_split(rows)\n",
        "\n",
        "    # jika tidak ada info gain → buat leaf\n",
        "    if gain == 0:\n",
        "        return Leaf(rows)\n",
        "\n",
        "    # split dataset\n",
        "    true_rows, false_rows = partition(rows, question)\n",
        "\n",
        "    # rekursif bangun subtree\n",
        "    true_branch = build_tree(true_rows)\n",
        "    false_branch = build_tree(false_rows)\n",
        "\n",
        "    # return decision node\n",
        "    return Decision_Node(question, true_branch, false_branch)\n",
        "\n",
        "# contoh penggunaan\n",
        "tree = build_tree(training_data)\n",
        "print(tree.question)"
      ],
      "metadata": {
        "id": "_cWHvsMKPPsk",
        "colab": {
          "base_uri": "https://localhost:8080/"
        },
        "outputId": "bb1b4c36-d505-4792-f514-a7726fd41674"
      },
      "execution_count": 15,
      "outputs": [
        {
          "output_type": "stream",
          "name": "stdout",
          "text": [
            "Is diameter >= 3?\n"
          ]
        }
      ]
    },
    {
      "cell_type": "code",
      "source": [
        "# mencetak struktur decision tree secara rekursif dalam format teks\n",
        "\n",
        "def print_tree(node, spacing=\"\"):\n",
        "\n",
        "    # base case: jika sudah mencapai leaf\n",
        "    if isinstance(node, Leaf):\n",
        "        print(spacing + \"Predict\", node.predictions)\n",
        "        return\n",
        "\n",
        "    # mencetak pertanyaan pada node saat ini\n",
        "    print(spacing + str(node.question))\n",
        "\n",
        "    # mencetak cabang true secara rekursif\n",
        "    print(spacing + '--> True:')\n",
        "    print_tree(node.true_branch, spacing + \"  \")\n",
        "\n",
        "    # mencetak cabang false secara rekursif\n",
        "    print(spacing + '--> False:')\n",
        "    print_tree(node.false_branch, spacing + \"  \")\n",
        "\n",
        "# contoh penggunaan\n",
        "tree = build_tree(training_data)\n",
        "print_tree(tree)"
      ],
      "metadata": {
        "id": "tx_AbjiYPS05",
        "colab": {
          "base_uri": "https://localhost:8080/"
        },
        "outputId": "a2fab2ec-1033-461a-d8dd-3dfce647013e"
      },
      "execution_count": 16,
      "outputs": [
        {
          "output_type": "stream",
          "name": "stdout",
          "text": [
            "Is diameter >= 3?\n",
            "--> True:\n",
            "  Is color == Yellow?\n",
            "  --> True:\n",
            "    Predict {'Apple': 1, 'Lemon': 1}\n",
            "  --> False:\n",
            "    Predict {'Apple': 1}\n",
            "--> False:\n",
            "  Predict {'Grape': 2}\n"
          ]
        }
      ]
    },
    {
      "cell_type": "code",
      "source": [
        "# mengklasifikasikan satu baris data menggunakan decision tree\n",
        "\n",
        "def classify(row, node):\n",
        "\n",
        "    # base case: jika sudah mencapai leaf\n",
        "    if isinstance(node, Leaf):\n",
        "        return node.predictions\n",
        "\n",
        "    # jika pertanyaan cocok → lanjut ke cabang true\n",
        "    if node.question.match(row):\n",
        "        return classify(row, node.true_branch)\n",
        "    else:\n",
        "        return classify(row, node.false_branch)\n",
        "\n",
        "# contoh penggunaan\n",
        "tree = build_tree(training_data)\n",
        "\n",
        "# coba klasifikasikan data uji\n",
        "for row in testing_data:\n",
        "    print(\"Data:\", row)\n",
        "    print(\"Prediksi:\", classify(row, tree))\n",
        "    print()"
      ],
      "metadata": {
        "id": "tchvhQc-PVC2",
        "colab": {
          "base_uri": "https://localhost:8080/"
        },
        "outputId": "1c217af7-d755-4e1a-ece9-c33e5cb906a3"
      },
      "execution_count": 17,
      "outputs": [
        {
          "output_type": "stream",
          "name": "stdout",
          "text": [
            "Data: ['Green', 3, 'Apple']\n",
            "Prediksi: {'Apple': 1}\n",
            "\n",
            "Data: ['Yellow', 4, 'Apple']\n",
            "Prediksi: {'Apple': 1, 'Lemon': 1}\n",
            "\n",
            "Data: ['Red', 2, 'Grape']\n",
            "Prediksi: {'Grape': 2}\n",
            "\n",
            "Data: ['Red', 1, 'Grape']\n",
            "Prediksi: {'Grape': 2}\n",
            "\n",
            "Data: ['Yellow', 3, 'Lemon']\n",
            "Prediksi: {'Apple': 1, 'Lemon': 1}\n",
            "\n"
          ]
        }
      ]
    },
    {
      "cell_type": "code",
      "source": [
        "# menampilkan prediksi pada leaf dalam format persentase\n",
        "\n",
        "def print_leaf(counts):\n",
        "    total = sum(counts.values())\n",
        "    probs = {}\n",
        "    for lbl in counts:\n",
        "        probs[lbl] = str(int(counts[lbl] / total * 100)) + \"%\"\n",
        "    return probs\n",
        "\n",
        "# contoh penggunaan\n",
        "tree = build_tree(training_data)\n",
        "\n",
        "for row in testing_data:\n",
        "    prediction = classify(row, tree)\n",
        "    print(\"Data:\", row)\n",
        "    print(\"Prediksi:\", print_leaf(prediction))\n",
        "    print()"
      ],
      "metadata": {
        "id": "w8r0lzWpQM7c",
        "colab": {
          "base_uri": "https://localhost:8080/"
        },
        "outputId": "ec274ece-927b-4499-c2aa-34f0ce7cbaae"
      },
      "execution_count": 18,
      "outputs": [
        {
          "output_type": "stream",
          "name": "stdout",
          "text": [
            "Data: ['Green', 3, 'Apple']\n",
            "Prediksi: {'Apple': '100%'}\n",
            "\n",
            "Data: ['Yellow', 4, 'Apple']\n",
            "Prediksi: {'Apple': '50%', 'Lemon': '50%'}\n",
            "\n",
            "Data: ['Red', 2, 'Grape']\n",
            "Prediksi: {'Grape': '100%'}\n",
            "\n",
            "Data: ['Red', 1, 'Grape']\n",
            "Prediksi: {'Grape': '100%'}\n",
            "\n",
            "Data: ['Yellow', 3, 'Lemon']\n",
            "Prediksi: {'Apple': '50%', 'Lemon': '50%'}\n",
            "\n"
          ]
        }
      ]
    },
    {
      "cell_type": "markdown",
      "source": [
        "# Predict Using Decision Tree"
      ],
      "metadata": {
        "id": "JLT1_TuuQWlI"
      }
    },
    {
      "cell_type": "code",
      "source": [
        "# menguji decision tree dengan data uji dan membandingkan hasil prediksi dengan label asli\n",
        "for row in testing_data:\n",
        "    prediction = classify(row, tree)\n",
        "    print(\"Data:\", row[:-1])\n",
        "    print(\"Label asli:\", row[-1])\n",
        "    print(\"Prediksi:\", print_leaf(prediction))\n",
        "    print()"
      ],
      "metadata": {
        "id": "DhG5NCwHQSlF",
        "colab": {
          "base_uri": "https://localhost:8080/"
        },
        "outputId": "672494ab-2333-479c-8e96-33c2b9adad87"
      },
      "execution_count": 19,
      "outputs": [
        {
          "output_type": "stream",
          "name": "stdout",
          "text": [
            "Data: ['Green', 3]\n",
            "Label asli: Apple\n",
            "Prediksi: {'Apple': '100%'}\n",
            "\n",
            "Data: ['Yellow', 4]\n",
            "Label asli: Apple\n",
            "Prediksi: {'Apple': '50%', 'Lemon': '50%'}\n",
            "\n",
            "Data: ['Red', 2]\n",
            "Label asli: Grape\n",
            "Prediksi: {'Grape': '100%'}\n",
            "\n",
            "Data: ['Red', 1]\n",
            "Label asli: Grape\n",
            "Prediksi: {'Grape': '100%'}\n",
            "\n",
            "Data: ['Yellow', 3]\n",
            "Label asli: Lemon\n",
            "Prediksi: {'Apple': '50%', 'Lemon': '50%'}\n",
            "\n"
          ]
        }
      ]
    }
  ]
}